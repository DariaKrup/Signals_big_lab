{
 "cells": [
  {
   "cell_type": "code",
   "execution_count": 1,
   "metadata": {},
   "outputs": [],
   "source": [
    "import matplotlib.pyplot as plt\n",
    "import os\n",
    "import numpy as np\n",
    "from imageio import imread, imsave\n",
    "from skimage.color import rgb2gray\n",
    "from skimage.feature import corner_harris, corner_peaks, corner_fast, corner_subpix, ORB\n",
    "import cv2\n",
    "from sklearn.cluster import KMeans\n",
    "from collections import Counter\n",
    "from tabulate import tabulate"
   ]
  },
  {
   "cell_type": "markdown",
   "metadata": {},
   "source": [
    "В лабораторной необходимо по положению ручек стула определить, можно ли задвинуть стул под/над стол или такой возможности нет. \n",
    "Ручки стула обернуты в зеленую ткань для контраста с материалом стола и стула.\n",
    "\n",
    "Изображения разложены по папкам с названиями, соответствующими результату."
   ]
  },
  {
   "cell_type": "code",
   "execution_count": 2,
   "metadata": {},
   "outputs": [],
   "source": [
    "# Directories here - change name(!)\n",
    "path_to_dirs = 'C:\\\\Users\\\\Daria\\\\Documents\\\\Обработка сигналов\\\\Big_lab\\\\'\n",
    "dirs = ['above', \n",
    "        'below',\n",
    "        'none']\n",
    "name_dirs = ['Above', 'Below', 'None']"
   ]
  },
  {
   "cell_type": "markdown",
   "metadata": {},
   "source": [
    "Для определения границ столешницы используется детектор Хафа от границ изображения: необходимо выделить верхнюю и нижнюю грани столешницы (горизонтальные линии).\n",
    "После применения детектора имеем расстояния от левого верхнего угла изображения и углы между горизонтальной осью и этим расстоянием, по ним вычисляем высоту (от верхнего левого угла до точки, соответвующей началу линии по оси ОУ)."
   ]
  },
  {
   "cell_type": "code",
   "execution_count": 3,
   "metadata": {},
   "outputs": [],
   "source": [
    "from skimage.transform import (hough_line, hough_line_peaks,\n",
    "                               probabilistic_hough_line)\n",
    "from skimage.feature import canny\n",
    "\n",
    "def k_closest(sample, pivot, k):\n",
    "    return sorted(sample, key=lambda i: abs(i - pivot))[:k]\n",
    "\n",
    "def show_hough_transform(image):\n",
    "     # Hough from Canny borders\n",
    "    h, theta, d = hough_line(canny(image)) \n",
    "    \n",
    "    # Find horizontal lines (dist + angle)\n",
    "    h_up = image.shape[0]\n",
    "    dist_hor = []\n",
    "    for _, angle, dist in zip(*hough_line_peaks(h, theta, d)):\n",
    "        if np.abs(angle) > 1:\n",
    "            dist_hor.append((np.abs(dist), angle))       \n",
    "     \n",
    "    # Find heights from left corner\n",
    "    heights = [np.abs(dist[0] / np.sin(dist[1])) for dist in dist_hor]\n",
    "    \n",
    "    # Find 2 closest among heights (here return closest for every height)\n",
    "    result = [k_closest(heights, i, 2) for i in heights]\n",
    "    # Find smallest distance\n",
    "    distances = [(i, np.abs(i[0] - i[1])) for i in result]\n",
    "    \n",
    "    h_up, h_low = sorted(min(distances, key=lambda dist: dist[1])[0])\n",
    "\n",
    "    return h_up, h_low"
   ]
  },
  {
   "cell_type": "markdown",
   "metadata": {},
   "source": [
    "Определяем особые точки с помощью SIFT для определения точек на ручках (для этого и используется контрастный цвет)."
   ]
  },
  {
   "cell_type": "code",
   "execution_count": 5,
   "metadata": {},
   "outputs": [],
   "source": [
    "# SIFT for special points searching\n",
    "def sift_с(img):\n",
    "    sift = cv2.SIFT_create()\n",
    "    # Keypoints and descriptors.\n",
    "    kp1, des1 = sift.detectAndCompute(img, None)\n",
    "    \n",
    "    return kp1"
   ]
  },
  {
   "cell_type": "markdown",
   "metadata": {},
   "source": [
    "Здесь идет выделение 6 основных цветов картинки для последующего выделения ведущего зеленого цвета."
   ]
  },
  {
   "cell_type": "code",
   "execution_count": 6,
   "metadata": {},
   "outputs": [],
   "source": [
    "number_of_colors = 6\n",
    "def find_colors(image):\n",
    "    # Convert to RGB\n",
    "    image = cv2.cvtColor(image, cv2.COLOR_BGR2RGB)\n",
    "    modified_image = cv2.resize(image, (600, 400), interpolation = cv2.INTER_AREA)\n",
    "    modified_image = modified_image.reshape(modified_image.shape[0]*modified_image.shape[1], 3)\n",
    "    \n",
    "    clf = KMeans(n_clusters = number_of_colors)\n",
    "    labels = clf.fit_predict(modified_image)\n",
    "    counts = Counter(labels)\n",
    "\n",
    "    center_colors = clf.cluster_centers_\n",
    "    # We get ordered colors by iterating through the keys\n",
    "    ordered_colors = [center_colors[i] for i in counts.keys()]\n",
    "    rgb_colors = [ordered_colors[i] for i in counts.keys()]\n",
    "    return rgb_colors"
   ]
  },
  {
   "cell_type": "markdown",
   "metadata": {},
   "source": [
    "Имеем 3 варианта для отсеивания зеленых точек:\n",
    "* используем маску на основе отношения компонент: значения зеленого должны преобладать;\n",
    "* для каждого выражения вычисляем 6 основных цветов, затем ищем среди них зеленый и рассматриваем цвета в его окрестности;\n",
    "* вычисляем основные цвета только для первого фото, ищем зеленый в той же окрестности."
   ]
  },
  {
   "cell_type": "code",
   "execution_count": 7,
   "metadata": {},
   "outputs": [],
   "source": [
    "def is_green_threshold(img, pts, rgb):\n",
    "    green_points_height = []\n",
    "    for point in pts:\n",
    "        if (int(point[0]) < img.shape[0] and int(point[1]) < img.shape[1]):\n",
    "            (r, g, b) = img[int(point[0]), int(point[1])]\n",
    "            if b <= g and r <= g:\n",
    "                green_points_height.append(int(point[0]))\n",
    "    return green_points_height\n",
    "    \n",
    "    \n",
    "def is_green_clast(img, pts, b):\n",
    "    green_points_height = []\n",
    "    # Find main 6 colors of picture\n",
    "    rgb = find_colors(img)\n",
    "    # Green color found if max is in 1st coordinate(RGB)\n",
    "    green_colors = []\n",
    "    for i in rgb:\n",
    "        i = i.tolist()\n",
    "        if (i.index(max(i)) == 1):\n",
    "            green_colors.append(np.round(i, 0))\n",
    "    for point in pts:     \n",
    "        if (int(point[0]) < img.shape[0] and int(point[1]) < img.shape[1]):\n",
    "                (r, g, b) = img[int(point[0]), int(point[1])]\n",
    "                for green in green_colors:\n",
    "                    if np.abs(green[0] - r) <= 20 and np.abs(green[1] - g) <= 20 and np.abs(green[2] - b) <= 20:\n",
    "                        green_points_height.append(int(point[0]))       \n",
    "    return green_points_height\n",
    "\n",
    "\n",
    "def is_green_from_first(img, pts, b):\n",
    "    green_points_height = []\n",
    "    green_colors = []\n",
    "    # Green color found if max is in 1st coordinate(RGB)\n",
    "    for i in rgb:\n",
    "        i = i.tolist()\n",
    "        if (i.index(max(i)) == 1):\n",
    "            green_colors.append(np.round(i, 0))\n",
    "        \n",
    "    for point in pts:          \n",
    "        if (int(point[0]) < img.shape[0] and int(point[1]) < img.shape[1]):\n",
    "                (r, g, b) = img[int(point[0]), int(point[1])]\n",
    "                for green in green_colors:\n",
    "                    if np.abs(green[0] - r) <= 20 and np.abs(green[1] - g) <= 20 and np.abs(green[2] - b) <= 20:\n",
    "                        green_points_height.append(int(point[0]))       \n",
    "    return green_points_height\n",
    "\n",
    "\n",
    "define_green = [is_green_clast, is_green_threshold, is_green_from_first]"
   ]
  },
  {
   "cell_type": "markdown",
   "metadata": {},
   "source": [
    "Среди особых точек ищем зеленые тремя разными методами.\n",
    "После прохода по особым точкам и отделения зеленых находим наименьшую и наибольшую высоту от края изображения."
   ]
  },
  {
   "cell_type": "code",
   "execution_count": 8,
   "metadata": {},
   "outputs": [],
   "source": [
    "def get_green_point_height(kp, img, rgb, is_green):\n",
    "    # Convert key points to coordinates\n",
    "    pts = cv2.KeyPoint_convert(kp)\n",
    "    # Round coordinates to get pixel\n",
    "    pts = np.round(pts, 0)\n",
    "            \n",
    "    \n",
    "    # Here find height of green key points\n",
    "    green_points_height = is_green(img, pts, rgb)\n",
    "\n",
    "    if len(green_points_height) == 0:\n",
    "        return -1, -1\n",
    "    max_h = np.min(green_points_height)\n",
    "    min_h = np.max(green_points_height)\n",
    "\n",
    "    return max_h, min_h"
   ]
  },
  {
   "cell_type": "markdown",
   "metadata": {},
   "source": [
    "Интересуют случай, когда верхняя точка зеленой ручки по высоте больше\n",
    "нижнего края столешницы («пройдет ниже») и случай, когда нижняя точка меньше верхней \n",
    "грани столешницы («пройдет выше»), иначе получили «не пройдет».\n",
    "Стоит отметить, что высота считается от верхнего края!\n",
    "\n",
    "Выведена таблица для трех различных методов и точностями определения 3-х возможных случаев и точности в целом."
   ]
  },
  {
   "cell_type": "code",
   "execution_count": 9,
   "metadata": {},
   "outputs": [
    {
     "name": "stdout",
     "output_type": "stream",
     "text": [
      "| Method              |   Accuracy above |   Accuracy below |   Impossible accuracy |   Total accuracy |\n",
      "|:--------------------|-----------------:|-----------------:|----------------------:|-----------------:|\n",
      "| is_green_clast      |              0.3 |              0.3 |                   1   |            0.533 |\n",
      "| is_green_threshold  |              0.1 |              0.2 |                   0.8 |            0.367 |\n",
      "| is_green_from_first |              0.4 |              0.5 |                   0.4 |            0.433 |\n"
     ]
    }
   ],
   "source": [
    "rows = []\n",
    "headers = ['Method', 'Accuracy above', 'Accuracy below', 'Impossible accuracy', 'Total accuracy']\n",
    "\n",
    "for method in define_green:\n",
    "    acc = []\n",
    "    acc.clear()\n",
    "    i = 0\n",
    "    for dir_ in dirs:\n",
    "        dir_actual = os.path.join(path_to_dirs, dir_)       \n",
    "        os.chdir(dir_actual)\n",
    "        images = [img_ for img_ in os.listdir(dir_actual)\n",
    "                  if img_.endswith(\".jpg\") or\n",
    "                  img_.endswith(\".jpeg\") or\n",
    "                  img_.endswith(\"png\")]\n",
    "        sum_acc = 0\n",
    "        for j in range(len(images)):\n",
    "            image = imread(images[j])\n",
    "            if j == 0:\n",
    "                rgb = find_colors(image)\n",
    "            gray = rgb2gray(image)\n",
    "            table_up, table_low = show_hough_transform(gray)\n",
    "            key_points = sift_с(image)\n",
    "            chair_up, chair_low = get_green_point_height(key_points, image, rgb, method)\n",
    "            if chair_low < 0 or chair_up < 0: \n",
    "                res = 'none'      \n",
    "            elif chair_low < table_up: \n",
    "                res = 'above'\n",
    "            elif chair_up > table_low:\n",
    "                res = 'below'\n",
    "            else:\n",
    "                res = 'none'\n",
    "            if res == name_dirs[i].lower():\n",
    "                sum_acc += 1\n",
    "        acc.append(sum_acc/len(images))\n",
    "        i += 1\n",
    "    rows.append((method.__name__, acc[0], acc[1], acc[2], np.round(np.sum(acc) / 3, decimals=3)))\n",
    "print(tabulate(rows, headers, tablefmt=\"pipe\"))"
   ]
  },
  {
   "cell_type": "markdown",
   "metadata": {},
   "source": [
    "Во время решения задачи стало понятно, что попытка положиться на определение цвета была не совсем удачной. Под разным углом(поскольку стол перед окном, свет так или иначе падат по-разному) зеленый цвет, на который была опора во время решения, может иметь больший отлив в синие оттенки, что не позволяет использовать цветовые палитры корректно - ручной подбор границ цвета для всех изображений не дал желаемых результатов.\n",
    "\n",
    "Видно, что лучшие результаты показывает определение основных цветов изображения на каждом из них. Это оптимальный вариант для решения, поскольку может учитывать тонкости оттенков.\n",
    "Попытки сортировать точки по соотношению цветов между ними были не самыми удачными в силу выше описанного, равно как и кластеризация по цветам в начале."
   ]
  }
 ],
 "metadata": {
  "kernelspec": {
   "display_name": "Python 3",
   "language": "python",
   "name": "python3"
  },
  "language_info": {
   "codemirror_mode": {
    "name": "ipython",
    "version": 3
   },
   "file_extension": ".py",
   "mimetype": "text/x-python",
   "name": "python",
   "nbconvert_exporter": "python",
   "pygments_lexer": "ipython3",
   "version": "3.7.6"
  }
 },
 "nbformat": 4,
 "nbformat_minor": 4
}
