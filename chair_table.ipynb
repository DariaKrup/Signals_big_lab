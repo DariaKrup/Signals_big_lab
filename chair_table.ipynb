{
 "cells": [
  {
   "cell_type": "code",
   "execution_count": 27,
   "metadata": {},
   "outputs": [],
   "source": [
    "import matplotlib.pyplot as plt\n",
    "import os\n",
    "import numpy as np\n",
    "from imageio import imread, imsave\n",
    "from skimage.color import rgb2gray\n",
    "from skimage.feature import corner_harris, corner_peaks, corner_fast, corner_subpix, ORB\n",
    "import cv2\n",
    "import opencv as oc\n",
    "from sklearn.cluster import KMeans\n",
    "from collections import Counter"
   ]
  },
  {
   "cell_type": "markdown",
   "metadata": {},
   "source": [
    "В лабораторной необходимо по положению ручек стула определить, можно ли задвинуть стул под/над стол или такой возможности нет. \n",
    "Ручки стула обернуты в зеленую ткань для контраста с материалом стола и стула.\n",
    "\n",
    "Изображения разложены по папкам с названиями, соответствующими результату."
   ]
  },
  {
   "cell_type": "code",
   "execution_count": 28,
   "metadata": {},
   "outputs": [],
   "source": [
    "# Directories here - change name(!)\n",
    "dirs = ['C:\\\\Users\\\\Daria\\\\Documents\\\\Обработка сигналов\\\\Big_lab\\\\above', \n",
    "        'C:\\\\Users\\\\Daria\\\\Documents\\\\Обработка сигналов\\\\Big_lab\\\\below',\n",
    "        'C:\\\\Users\\\\Daria\\\\Documents\\\\Обработка сигналов\\\\Big_lab\\\\none']\n",
    "name_dirs = ['Above', 'Below', 'None']"
   ]
  },
  {
   "cell_type": "markdown",
   "metadata": {},
   "source": [
    "Для определения границ столешницы используется детектор Хафа от границ изображения: необходимо выделить верхнюю и нижнюю грани столешницы (горизонтальные линии).\n",
    "После применения детектора имеем расстояния от левого верхнего угла изображения и углы между горизонтальной осью и этим расстоянием, по ним вычисляем высоту (от верхнего левого угла до точки, соответвующей началу линии по оси ОУ)."
   ]
  },
  {
   "cell_type": "code",
   "execution_count": 29,
   "metadata": {},
   "outputs": [],
   "source": [
    "from skimage.transform import (hough_line, hough_line_peaks,\n",
    "                               probabilistic_hough_line)\n",
    "from skimage.feature import canny\n",
    "\n",
    "def k_closest(sample, pivot, k):\n",
    "    return sorted(sample, key=lambda i: abs(i - pivot))[:k]\n",
    "\n",
    "def show_hough_transform(image):\n",
    "     # Hough from Canny borders\n",
    "    h, theta, d = hough_line(canny(image)) \n",
    "    \n",
    "    # Find horizontal lines (dist + angle)\n",
    "    h_up = image.shape[0]\n",
    "    dist_hor = []\n",
    "    for _, angle, dist in zip(*hough_line_peaks(h, theta, d)):\n",
    "        if np.abs(angle) > 1:\n",
    "            dist_hor.append((np.abs(dist), angle))       \n",
    "     \n",
    "    # Find heights from left corner\n",
    "    heights = [np.abs(dist[0] / np.sin(dist[1])) for dist in dist_hor]\n",
    "    \n",
    "    # Find 2 closest among heights (here return closest for every height)\n",
    "    result = [k_closest(heights, i, 2) for i in heights]\n",
    "    # Find smallest distance\n",
    "    distances = [(i, np.abs(i[0] - i[1])) for i in result]\n",
    "    \n",
    "    h_up, h_low = sorted(min(distances, key=lambda dist: dist[1])[0])\n",
    "\n",
    "    return h_up, h_low"
   ]
  },
  {
   "cell_type": "markdown",
   "metadata": {},
   "source": [
    "Определяем особые точки с помощью SIFT для определения точек на ручках (для этого и используется контрастный цвет)."
   ]
  },
  {
   "cell_type": "code",
   "execution_count": 30,
   "metadata": {},
   "outputs": [],
   "source": [
    "# SIFT for special points searching\n",
    "def sift_с(img):\n",
    "    sift = cv2.SIFT_create()\n",
    "    # Keypoints and descriptors.\n",
    "    kp1, des1 = sift.detectAndCompute(img, None)\n",
    "    \n",
    "    return kp1"
   ]
  },
  {
   "cell_type": "markdown",
   "metadata": {},
   "source": [
    "Здесь идет выделение 6 основных цветов картинки для последующего выделения ведущего зеленого цвета."
   ]
  },
  {
   "cell_type": "code",
   "execution_count": 11,
   "metadata": {},
   "outputs": [],
   "source": [
    "number_of_colors = 6\n",
    "def find_colors(image):\n",
    "    # Convert to RGB\n",
    "    image = cv2.cvtColor(image, cv2.COLOR_BGR2RGB)\n",
    "    modified_image = cv2.resize(image, (600, 400), interpolation = cv2.INTER_AREA)\n",
    "    modified_image = modified_image.reshape(modified_image.shape[0]*modified_image.shape[1], 3)\n",
    "    \n",
    "    clf = KMeans(n_clusters = number_of_colors)\n",
    "    labels = clf.fit_predict(modified_image)\n",
    "    counts = Counter(labels)\n",
    "\n",
    "    center_colors = clf.cluster_centers_\n",
    "    # We get ordered colors by iterating through the keys\n",
    "    ordered_colors = [center_colors[i] for i in counts.keys()]\n",
    "    rgb_colors = [ordered_colors[i] for i in counts.keys()]\n",
    "    return rgb_colors"
   ]
  },
  {
   "cell_type": "markdown",
   "metadata": {},
   "source": [
    "Среди этих особых точек ищем зеленые (для этого используется основной цвет и некоторое отступление от него).\n",
    "После прохода по особым точкам и отделения зеленых находим наименьшую и наибольшую высоту от края изображения.\n"
   ]
  },
  {
   "cell_type": "code",
   "execution_count": 12,
   "metadata": {},
   "outputs": [],
   "source": [
    "def get_green_point_height(kp, img):\n",
    "    # Convert key points to coordinates\n",
    "    pts = cv2.KeyPoint_convert(kp)\n",
    "    # Round coordinates to get pixel\n",
    "    pts = np.round(pts, 0)\n",
    "\n",
    "    # Find main 8 colors of picture\n",
    "    rgb = find_colors(img)\n",
    "    \n",
    "    # Green color found if max is in 1st coordinate(RGB)\n",
    "    green_colors = []\n",
    "    for i in rgb:\n",
    "        i = i.tolist()\n",
    "        if (i.index(max(i)) == 1):\n",
    "            green_colors.append(np.round(i, 0))\n",
    "        \n",
    "    def is_green(b, g, r):\n",
    "        for green in green_colors:\n",
    "            if np.abs(green[0] - r) <= 20 and np.abs(green[1] - g) <= 20 and np.abs(green[2] - b) <= 20:\n",
    "                return True\n",
    "    \n",
    "    # Here find height of green key points\n",
    "    green_points_height = []\n",
    "    for point in pts:\n",
    "        if (int(point[0]) < img.shape[0] and int(point[1]) < img.shape[1]):\n",
    "            (r, g, b) = img[int(point[0]), int(point[1])]\n",
    "            if is_green(b, g, r):\n",
    "                green_points_height.append(int(point[0]))\n",
    "\n",
    "    if len(green_points_height) == 0:\n",
    "        return -1, -1\n",
    "    max_h = np.min(green_points_height)\n",
    "    min_h = np.max(green_points_height)\n",
    "\n",
    "    return max_h, min_h"
   ]
  },
  {
   "cell_type": "markdown",
   "metadata": {},
   "source": [
    "Интересуют случай, когда верхняя точка зеленой ручки по высоте больше\n",
    "нижнего края столешницы («пройдет ниже») и случай, когда нижняя точка меньше верхней \n",
    "грани столешницы («пройдет выше»), иначе получили «не пройдет».\n",
    "Стоит отметить, что высота считается от верхнего края!"
   ]
  },
  {
   "cell_type": "code",
   "execution_count": 31,
   "metadata": {},
   "outputs": [
    {
     "name": "stdout",
     "output_type": "stream",
     "text": [
      "Above\n",
      "Image 0: above\n",
      "Image 1: none\n",
      "Image 2: above\n",
      "Image 3: none\n",
      "Image 4: none\n",
      "Image 5: none\n",
      "Image 6: below\n",
      "Image 7: above\n",
      "Image 8: none\n",
      "Image 9: none\n",
      "For Above accuracy is: 0.3\n",
      "Below\n",
      "Image 0: below\n",
      "Image 1: below\n",
      "Image 2: above\n",
      "Image 3: none\n",
      "Image 4: none\n",
      "Image 5: none\n",
      "Image 6: above\n",
      "Image 7: below\n",
      "Image 8: none\n",
      "Image 9: none\n",
      "For Below accuracy is: 0.3\n",
      "None\n",
      "Image 0: none\n",
      "Image 1: none\n",
      "Image 2: none\n",
      "Image 3: none\n",
      "Image 4: none\n",
      "Image 5: none\n",
      "Image 6: none\n",
      "Image 7: none\n",
      "Image 8: none\n",
      "Image 9: none\n",
      "For None accuracy is: 1.0\n"
     ]
    }
   ],
   "source": [
    "i = 0\n",
    "for dir_ in dirs:\n",
    "    images = [img_ for img_ in os.listdir(dir_)\n",
    "              if img_.endswith(\".jpg\") or\n",
    "              img_.endswith(\".jpeg\") or\n",
    "              img_.endswith(\"png\")]\n",
    "    print(name_dirs[i])\n",
    "    sum_acc = 0\n",
    "    for j in range(len(images)):\n",
    "        os.chdir(dir_)\n",
    "        #print(images[j])\n",
    "        image = imread(images[j])\n",
    "        #print(image)\n",
    "        gray = rgb2gray(image)\n",
    "        table_up, table_low = show_hough_transform(gray)\n",
    "        #print(table_up, table_low)\n",
    "        key_points = sift_с(image)\n",
    "        chair_up, chair_low = get_green_point_height(key_points, image)\n",
    "        #print(chair_up, chair_low)\n",
    "        print('Image ' + str(j) + ': ', end =\"\")\n",
    "        if chair_low < 0 or chair_up < 0: \n",
    "            res = 'none'      \n",
    "        elif chair_low < table_up: \n",
    "            res = 'above'\n",
    "        elif chair_up > table_low:\n",
    "            res = 'below'\n",
    "        else:\n",
    "            res = 'none'\n",
    "        print(res)\n",
    "        if res == name_dirs[i].lower():\n",
    "            sum_acc += 1\n",
    "    #print(sum_acc)\n",
    "    print('For ' + name_dirs[i] + ' accuracy is: ' + str(sum_acc/len(images)))\n",
    "    i += 1"
   ]
  },
  {
   "cell_type": "code",
   "execution_count": null,
   "metadata": {},
   "outputs": [],
   "source": []
  }
 ],
 "metadata": {
  "kernelspec": {
   "display_name": "Python 3",
   "language": "python",
   "name": "python3"
  },
  "language_info": {
   "codemirror_mode": {
    "name": "ipython",
    "version": 3
   },
   "file_extension": ".py",
   "mimetype": "text/x-python",
   "name": "python",
   "nbconvert_exporter": "python",
   "pygments_lexer": "ipython3",
   "version": "3.7.6"
  }
 },
 "nbformat": 4,
 "nbformat_minor": 4
}
