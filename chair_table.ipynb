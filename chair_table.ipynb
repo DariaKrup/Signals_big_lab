{
 "cells": [
  {
   "cell_type": "code",
   "execution_count": 2,
   "metadata": {},
   "outputs": [],
   "source": [
    "import matplotlib.pyplot as plt\n",
    "import os\n",
    "import numpy as np\n",
    "from imageio import imread, imsave\n",
    "from skimage.color import rgb2gray\n",
    "from skimage.feature import corner_harris, corner_peaks, corner_fast, corner_subpix, ORB\n",
    "import cv2\n",
    "import opencv as oc\n"
   ]
  },
  {
   "cell_type": "markdown",
   "metadata": {},
   "source": [
    "В лабораторной необходимо по положению ручек стула определить, можно ли задвинуть стул под/над стол или такой возможности нет. \n",
    "Ручки стула обернуты в зеленую ткань для контраста с материалом стола и стула.\n",
    "\n",
    "Изображения разложены по папкам с названиями, соответствующими результату."
   ]
  },
  {
   "cell_type": "code",
   "execution_count": 3,
   "metadata": {},
   "outputs": [],
   "source": [
    "# Directories here - change name(!)\n",
    "dirs = ['C:\\\\Users\\\\Daria\\\\Documents\\\\Обработка сигналов\\\\Big_lab\\\\Up', \n",
    "        'C:\\\\Users\\\\Daria\\\\Documents\\\\Обработка сигналов\\\\Big_lab\\\\Low',\n",
    "        'C:\\\\Users\\\\Daria\\\\Documents\\\\Обработка сигналов\\\\Big_lab\\\\Error']\n",
    "name_dirs = ['Above', 'Below', 'Impossible']"
   ]
  },
  {
   "cell_type": "markdown",
   "metadata": {},
   "source": [
    "Для определения границ столешницы используется детектор Хафа от границ изображения: необходимо выделить верхнюю и нижнюю грани столешницы (горизонтальные линии).\n",
    "После применения детектора имеем расстояния от левого верхнего угла изображения и углы между горизонтальной осью и этим расстоянием, по ним вычисляем высоту (от верхнего левого угла до точки, соответвующей началу линии по оси ОУ)."
   ]
  },
  {
   "cell_type": "code",
   "execution_count": 4,
   "metadata": {},
   "outputs": [],
   "source": [
    "from skimage.transform import (hough_line, hough_line_peaks,\n",
    "                               probabilistic_hough_line)\n",
    "from skimage.feature import canny\n",
    "from matplotlib import cm\n",
    "\n",
    "\n",
    "def show_hough_transform(image):\n",
    "    h, theta, d = hough_line(canny(image))  # вычисляем преобразование Хафа от границ изображения\n",
    "    \n",
    "    # find horizontal lines (dist + angle)\n",
    "    h_up = image.shape[0]\n",
    "    dist_hor = []\n",
    "    for _, angle, dist in zip(*hough_line_peaks(h, theta, d)):\n",
    "        if np.abs(angle) > 1:\n",
    "            dist_hor.append((np.abs(dist), angle))\n",
    "    # need 2 smallest as nearest to peek horizontal\n",
    "    sorted_dist = sorted(dist_hor, key=lambda dist: dist[0])\n",
    "    # here is cos(pi/2 - angle)\n",
    "    h_up = np.abs(sorted_dist[0][0] / np.sin(sorted_dist[0][1]))\n",
    "    h_low = np.abs(sorted_dist[1][0] / np.sin(sorted_dist[1][1]))\n",
    "\n",
    "    return h_up, h_low"
   ]
  },
  {
   "cell_type": "markdown",
   "metadata": {},
   "source": [
    "Определяем особые точки с помощью SIFT для определения точек на ручках (для этого и используется контрастный цвет)."
   ]
  },
  {
   "cell_type": "code",
   "execution_count": 5,
   "metadata": {},
   "outputs": [],
   "source": [
    "# SIFT for special points searching\n",
    "def sift_с(img):\n",
    "    sift = cv2.SIFT_create()\n",
    "    # Keypoints and descriptors.\n",
    "    kp1, des1 = sift.detectAndCompute(img, None)\n",
    "    \n",
    "    return kp1"
   ]
  },
  {
   "cell_type": "markdown",
   "metadata": {},
   "source": [
    "Среди этих особых точек ищем зеленые (для этого заданы верхняя и нижняя границы зеленого цвета).\n",
    "После прохода по особым точкам и отделения зеленых находим наименьшую и наибольшую высоту от края изображения.\n"
   ]
  },
  {
   "cell_type": "code",
   "execution_count": 26,
   "metadata": {},
   "outputs": [],
   "source": [
    "def get_green_point_height(kp, img):\n",
    "    # Convert key points to coordinates\n",
    "    pts = cv2.KeyPoint_convert(kp)\n",
    "    # Round coordinates to get pixel\n",
    "    pts = np.round(pts, 0)\n",
    "\n",
    "    #print(pts)    \n",
    "    #print(pts[-1])\n",
    "    \n",
    "    # BGR is here\n",
    "    green_min = np.array((10, 81, 7))\n",
    "    green_max = np.array((115, 222,111))\n",
    "\n",
    "\n",
    "    def is_green(b, g, r):\n",
    "        if b >= green_min[0] and g >= green_min[1] and r >= green_min[2] and b <= green_max[0] and g <= green_max[1] and r <= green_max[2]:\n",
    "            return True\n",
    "\n",
    "    #print(img.shape)\n",
    "    green_points_height = []\n",
    "    for point in pts:\n",
    "        if (int(point[0]) < img.shape[0] and int(point[1]) < img.shape[1]):\n",
    "            (b, g, r) = img[int(point[0]), int(point[1])]\n",
    "            if is_green(b, g, r):\n",
    "                #print(int(point[0]), int(point[1]))\n",
    "                green_points_height.append(int(point[0]))\n",
    "\n",
    "    if len(green_points_height) == 0:\n",
    "        return -1, -1\n",
    "    max_h = np.min(green_points_height)\n",
    "    min_h = np.max(green_points_height)\n",
    "\n",
    "    #print(max_h, min_h)\n",
    "    return max_h, min_h\n"
   ]
  },
  {
   "cell_type": "markdown",
   "metadata": {},
   "source": [
    "Интересуют случай, когда верхняя точка зеленой ручки по высоте больше\n",
    "нижнего края столешницы («пройдет ниже») и случай, когда нижняя точка меньше верхней \n",
    "грани столешницы («пройдет выше»), иначе получили «не пройдет».\n",
    "Стоит отметить, что высота считается от верхнего края!"
   ]
  },
  {
   "cell_type": "code",
   "execution_count": 28,
   "metadata": {},
   "outputs": [
    {
     "name": "stdout",
     "output_type": "stream",
     "text": [
      "Above\n",
      "Image 0: below\n",
      "Image 1: below\n",
      "Image 2: none\n",
      "Image 3: none\n",
      "Image 4: none\n",
      "Below\n",
      "Image 0: none\n",
      "Image 1: none\n",
      "Image 2: below\n",
      "Image 3: below\n",
      "Image 4: below\n",
      "Image 5: none\n",
      "Impossible\n",
      "Image 0: none\n",
      "Image 1: below\n",
      "Image 2: none\n",
      "Image 3: none\n",
      "Image 4: none\n"
     ]
    }
   ],
   "source": [
    "i = 0\n",
    "for dir_ in dirs:\n",
    "    images = [img_ for img_ in os.listdir(dir_)\n",
    "              if img_.endswith(\".jpg\") or\n",
    "              img_.endswith(\".jpeg\") or\n",
    "              img_.endswith(\"png\")]\n",
    "    print(name_dirs[i])\n",
    "    for j in range(len(images)):\n",
    "        os.chdir(dir_)\n",
    "        image = imread(images[j])\n",
    "        gray = rgb2gray(image)\n",
    "        table_max, table_min = show_hough_transform(gray)\n",
    "        key_points = sift_с(image)\n",
    "        chair_max, chair_min = get_green_point_height(key_points, image)\n",
    "        print('Image ' + str(j) + ': ', end =\"\")\n",
    "        if chair_max < 0 or chair_min < 0: \n",
    "            print('none')\n",
    "            continue\n",
    "        if chair_max > table_min: \n",
    "            print('below')\n",
    "        elif chair_min < table_max:\n",
    "            print('above')\n",
    "        else:\n",
    "            print('none')\n",
    "    i += 1"
   ]
  },
  {
   "cell_type": "code",
   "execution_count": null,
   "metadata": {},
   "outputs": [],
   "source": []
  }
 ],
 "metadata": {
  "kernelspec": {
   "display_name": "Python 3",
   "language": "python",
   "name": "python3"
  },
  "language_info": {
   "codemirror_mode": {
    "name": "ipython",
    "version": 3
   },
   "file_extension": ".py",
   "mimetype": "text/x-python",
   "name": "python",
   "nbconvert_exporter": "python",
   "pygments_lexer": "ipython3",
   "version": "3.7.6"
  }
 },
 "nbformat": 4,
 "nbformat_minor": 4
}
